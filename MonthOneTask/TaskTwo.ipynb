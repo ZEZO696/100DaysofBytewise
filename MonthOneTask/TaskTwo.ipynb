{
  "nbformat": 4,
  "nbformat_minor": 0,
  "metadata": {
    "colab": {
      "provenance": []
    },
    "kernelspec": {
      "name": "python3",
      "display_name": "Python 3"
    },
    "language_info": {
      "name": "python"
    }
  },
  "cells": [
    {
      "cell_type": "code",
      "execution_count": 26,
      "metadata": {
        "colab": {
          "base_uri": "https://localhost:8080/"
        },
        "id": "r-6sYML7jd_O",
        "outputId": "713874a0-a6aa-44c0-faef-bc8d54b2bfba"
      },
      "outputs": [
        {
          "output_type": "stream",
          "name": "stdout",
          "text": [
            "Enter the string: level\n",
            "The string level is Palindrome.\n"
          ]
        }
      ],
      "source": [
        "def is_palindrome(st):\n",
        "  return st == st[::-1]\n",
        "\n",
        "string = input(\"Enter the string: \")\n",
        "if is_palindrome(string):\n",
        "  print(f\"The string {string} is Palindrome.\")\n",
        "else:\n",
        "  print(f\"The string {string} is not palindorme.\")"
      ]
    },
    {
      "cell_type": "code",
      "source": [
        "for i in range(1, 101):\n",
        "  if (i%3 == 0):\n",
        "    print(\"Fizz\")\n",
        "  elif(i%5==0):\n",
        "    print(\"Buzz\")\n",
        "  elif(i%3 and i%5 == 0):\n",
        "    print(\"FizzBuzz\")\n",
        "  else:\n",
        "    print(i)"
      ],
      "metadata": {
        "colab": {
          "base_uri": "https://localhost:8080/"
        },
        "collapsed": true,
        "id": "9Zq8ygTBkRYq",
        "outputId": "35cc357d-8313-46c1-f8ec-9f75227077a0"
      },
      "execution_count": 27,
      "outputs": [
        {
          "output_type": "stream",
          "name": "stdout",
          "text": [
            "1\n",
            "2\n",
            "Fizz\n",
            "4\n",
            "Buzz\n",
            "Fizz\n",
            "7\n",
            "8\n",
            "Fizz\n",
            "Buzz\n",
            "11\n",
            "Fizz\n",
            "13\n",
            "14\n",
            "Fizz\n",
            "16\n",
            "17\n",
            "Fizz\n",
            "19\n",
            "Buzz\n",
            "Fizz\n",
            "22\n",
            "23\n",
            "Fizz\n",
            "Buzz\n",
            "26\n",
            "Fizz\n",
            "28\n",
            "29\n",
            "Fizz\n",
            "31\n",
            "32\n",
            "Fizz\n",
            "34\n",
            "Buzz\n",
            "Fizz\n",
            "37\n",
            "38\n",
            "Fizz\n",
            "Buzz\n",
            "41\n",
            "Fizz\n",
            "43\n",
            "44\n",
            "Fizz\n",
            "46\n",
            "47\n",
            "Fizz\n",
            "49\n",
            "Buzz\n",
            "Fizz\n",
            "52\n",
            "53\n",
            "Fizz\n",
            "Buzz\n",
            "56\n",
            "Fizz\n",
            "58\n",
            "59\n",
            "Fizz\n",
            "61\n",
            "62\n",
            "Fizz\n",
            "64\n",
            "Buzz\n",
            "Fizz\n",
            "67\n",
            "68\n",
            "Fizz\n",
            "Buzz\n",
            "71\n",
            "Fizz\n",
            "73\n",
            "74\n",
            "Fizz\n",
            "76\n",
            "77\n",
            "Fizz\n",
            "79\n",
            "Buzz\n",
            "Fizz\n",
            "82\n",
            "83\n",
            "Fizz\n",
            "Buzz\n",
            "86\n",
            "Fizz\n",
            "88\n",
            "89\n",
            "Fizz\n",
            "91\n",
            "92\n",
            "Fizz\n",
            "94\n",
            "Buzz\n",
            "Fizz\n",
            "97\n",
            "98\n",
            "Fizz\n",
            "Buzz\n"
          ]
        }
      ]
    },
    {
      "cell_type": "code",
      "source": [
        "first = 0\n",
        "second = 1\n",
        "\n",
        "inp = int(input(\"Enter the range: \"))\n",
        "\n",
        "for i in range(inp):\n",
        "  print(first)\n",
        "  temp = first\n",
        "  first = second\n",
        "  second = temp + second\n"
      ],
      "metadata": {
        "colab": {
          "base_uri": "https://localhost:8080/"
        },
        "collapsed": true,
        "id": "Qp007i41nacL",
        "outputId": "450e99ea-ecf7-472e-fa6e-8e369a8b5f7c"
      },
      "execution_count": 28,
      "outputs": [
        {
          "output_type": "stream",
          "name": "stdout",
          "text": [
            "Enter the range: 8\n",
            "0\n",
            "1\n",
            "1\n",
            "2\n",
            "3\n",
            "5\n",
            "8\n",
            "13\n"
          ]
        }
      ]
    },
    {
      "cell_type": "code",
      "source": [
        "flag = 0\n",
        "inp = int(input(\"Enter the number: \"))\n",
        "\n",
        "for i in range(2, inp):\n",
        "  if(inp%i == 0):\n",
        "    flag = 1\n",
        "\n",
        "if flag == 1:\n",
        "  print(f\"{inp} is a not a prime number.\")\n",
        "else:\n",
        "  print(f\"{inp} is a prime number.\")\n"
      ],
      "metadata": {
        "colab": {
          "base_uri": "https://localhost:8080/"
        },
        "collapsed": true,
        "id": "5fp9Td6Fnq2F",
        "outputId": "ee198e83-259d-4bf8-bb7f-09a6b8c27ae5"
      },
      "execution_count": 29,
      "outputs": [
        {
          "output_type": "stream",
          "name": "stdout",
          "text": [
            "Enter the number: 13\n",
            "13 is a prime number.\n"
          ]
        }
      ]
    },
    {
      "cell_type": "code",
      "source": [
        "import random\n",
        "random_num = random.randint(1, 20)\n",
        "print(random_num)\n",
        "inp = int(input(\"Give your guess (Range 1-20): \"))\n",
        "\n",
        "while inp != random_num:\n",
        "  if inp > random_num:\n",
        "    print(\"Your guess is high\")\n",
        "  else:\n",
        "    print(\"Your guess is low\")\n",
        "  inp = int(input(\"Give your guess (Range 1-20): \"))\n",
        "\n",
        "print(\"Congratulations. You guess it right\")"
      ],
      "metadata": {
        "colab": {
          "base_uri": "https://localhost:8080/"
        },
        "collapsed": true,
        "id": "7R3FEz3RpFn9",
        "outputId": "40848d93-8448-4212-ab8d-b729601cd8e2"
      },
      "execution_count": 30,
      "outputs": [
        {
          "output_type": "stream",
          "name": "stdout",
          "text": [
            "2\n",
            "Give your guess (Range 1-20): 4\n",
            "Your guess is high\n",
            "Give your guess (Range 1-20): 1\n",
            "Your guess is low\n",
            "Give your guess (Range 1-20): 2\n",
            "Congratulations. You guess it right\n"
          ]
        }
      ]
    },
    {
      "cell_type": "code",
      "source": [
        "square_list = [x**2 for x in range(1, 11)]\n",
        "print(square_list)"
      ],
      "metadata": {
        "colab": {
          "base_uri": "https://localhost:8080/"
        },
        "id": "z66x1Tq6_YIn",
        "outputId": "51bb148b-7983-4341-e370-25570fd6e122"
      },
      "execution_count": 31,
      "outputs": [
        {
          "output_type": "stream",
          "name": "stdout",
          "text": [
            "[1, 4, 9, 16, 25, 36, 49, 64, 81, 100]\n"
          ]
        }
      ]
    },
    {
      "cell_type": "code",
      "source": [
        "import string\n",
        "def is_palindrome(sentence):\n",
        "    translator = str.maketrans('', '', string.punctuation)\n",
        "    cleaned_sentence = sentence.translate(translator).replace(\" \", \"\").lower()\n",
        "\n",
        "    return cleaned_sentence == cleaned_sentence[::-1]\n",
        "\n",
        "inp  = input(\"Enter the sentence: \")\n",
        "\n",
        "if(is_palindrome(inp)):\n",
        "  print(f\"The sentence {inp} is palindrome.\")\n",
        "else:\n",
        "  print(f\"The sentence {inp} is not palindrome.\")"
      ],
      "metadata": {
        "colab": {
          "base_uri": "https://localhost:8080/"
        },
        "id": "tbTmx1X8BoC-",
        "outputId": "9fa22e71-1b73-4935-8188-ef57490ced5e"
      },
      "execution_count": 32,
      "outputs": [
        {
          "output_type": "stream",
          "name": "stdout",
          "text": [
            "Enter the sentence: A man, a plan, a canal: Panama\n",
            "The sentence A man, a plan, a canal: Panama is palindrome.\n"
          ]
        }
      ]
    },
    {
      "cell_type": "code",
      "source": [
        "def anagram(st1, st2):\n",
        "  st1 = st1.replace(\" \", \"\").lower()\n",
        "  st2 = st2.replace(\" \", \"\").lower()\n",
        "\n",
        "  return sorted(st1) == sorted(st2)\n",
        "\n",
        "inp1 = input(\"Enter the first string: \")\n",
        "inp2 = input(\"Enter the second string: \")\n",
        "\n",
        "if(anagram(inp1, inp2)):\n",
        "  print(f\"The strings {inp1} and {inp2} are anagram.\")\n",
        "else:\n",
        "  print(f\"The strings {inp1} and {inp2} are not anagram.\")"
      ],
      "metadata": {
        "colab": {
          "base_uri": "https://localhost:8080/"
        },
        "id": "m0UzIkcTJl6_",
        "outputId": "1bdd0ac1-02b7-4e4d-e10c-ac6da6efd307"
      },
      "execution_count": 33,
      "outputs": [
        {
          "output_type": "stream",
          "name": "stdout",
          "text": [
            "Enter the first string: silent\n",
            "Enter the second string: listen\n",
            "The strings silent and listen are anagram.\n"
          ]
        }
      ]
    },
    {
      "cell_type": "code",
      "source": [
        "words = []\n",
        "def rev_sent(sent):\n",
        "  words = sent.split()\n",
        "  sent = words[::-1]\n",
        "  sent = \" \".join(sent)\n",
        "  return sent\n",
        "\n",
        "sentence = input(\"Enter a sentence: \")\n",
        "print(rev_sent(sentence))"
      ],
      "metadata": {
        "colab": {
          "base_uri": "https://localhost:8080/"
        },
        "id": "cAARBmBWKxYs",
        "outputId": "15395353-d17a-45b4-c095-01e0730c67d5"
      },
      "execution_count": 34,
      "outputs": [
        {
          "output_type": "stream",
          "name": "stdout",
          "text": [
            "Enter a sentence: a quick brown fox jumps over a lazy dog\n",
            "dog lazy a over jumps fox brown quick a\n"
          ]
        }
      ]
    },
    {
      "cell_type": "code",
      "source": [
        "inp = float(input(\"Enter the temperatur in celsius: \"))\n",
        "\n",
        "far = float((inp * 9/5) + 32)\n",
        "kel = float(inp + 273.15)\n",
        "\n",
        "print(f\"The temperature in Fahrenheit is {far} and the temperature in Kelvin is {kel}\")"
      ],
      "metadata": {
        "colab": {
          "base_uri": "https://localhost:8080/"
        },
        "id": "REs3F5fRMdMB",
        "outputId": "bbbfe21c-b0df-442c-98cb-21cad3a64c04"
      },
      "execution_count": 35,
      "outputs": [
        {
          "output_type": "stream",
          "name": "stdout",
          "text": [
            "Enter the temperatur in celsius: 20\n",
            "The temperature in Fahrenheit is 68.0 and the temperature in Kelvin is 293.15\n"
          ]
        }
      ]
    }
  ]
}