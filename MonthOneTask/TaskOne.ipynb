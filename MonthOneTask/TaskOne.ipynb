{
  "nbformat": 4,
  "nbformat_minor": 0,
  "metadata": {
    "colab": {
      "provenance": []
    },
    "kernelspec": {
      "name": "python3",
      "display_name": "Python 3"
    },
    "language_info": {
      "name": "python"
    }
  },
  "cells": [
    {
      "cell_type": "code",
      "execution_count": null,
      "metadata": {
        "colab": {
          "base_uri": "https://localhost:8080/"
        },
        "id": "4WQdh7ospRZ2",
        "outputId": "62893430-9233-482a-ed79-41b097390f98"
      },
      "outputs": [
        {
          "output_type": "stream",
          "name": "stdout",
          "text": [
            "Enter the first number: 3\n",
            "Enter the first number: 4\n",
            "The sum is 7.0\n"
          ]
        }
      ],
      "source": [
        "a = int(input(\"Enter the first number: \"))\n",
        "b = int(input(\"Enter the first number: \"))\n",
        "\n",
        "res = float(a+b)\n",
        "print(f\"The sum is {res}\")"
      ]
    },
    {
      "cell_type": "code",
      "source": [
        "from math import pi\n",
        "rad = float(input(\"Enter the radius: \"))\n",
        "area = pi * rad ** 2\n",
        "print(f\"The area is {area}\")"
      ],
      "metadata": {
        "colab": {
          "base_uri": "https://localhost:8080/"
        },
        "id": "Kxyu8_g0qKU2",
        "outputId": "7c9d4401-588b-4777-ede7-c5d7373b45f4"
      },
      "execution_count": null,
      "outputs": [
        {
          "output_type": "stream",
          "name": "stdout",
          "text": [
            "Enter the radius: 5\n",
            "The area is 78.53981633974483\n"
          ]
        }
      ]
    },
    {
      "cell_type": "code",
      "source": [
        "def even_odd(num):\n",
        "  if(num % 2 == 0):\n",
        "    print(\"The number is even\")\n",
        "  else:\n",
        "    print(\"The number is odd\")\n",
        "\n",
        "\n",
        "number = int(input(\"Enter a number: \"))\n",
        "even_odd(number)"
      ],
      "metadata": {
        "colab": {
          "base_uri": "https://localhost:8080/"
        },
        "id": "VZ1NuEmjq22c",
        "outputId": "101c125a-adfa-407e-e58e-ce32879e43e5"
      },
      "execution_count": null,
      "outputs": [
        {
          "output_type": "stream",
          "name": "stdout",
          "text": [
            "Enter a number: 72\n",
            "The number is even\n"
          ]
        }
      ]
    },
    {
      "cell_type": "code",
      "source": [
        "def sum(a,b):\n",
        "    return a+b\n",
        "def sub(a,b):\n",
        "    return a-b\n",
        "def mul(a,b):\n",
        "    return a*b\n",
        "def div(a,b):\n",
        "    return a/b\n",
        "\n",
        "a = int(input(\"Enter the first number: \"))\n",
        "b = int(input(\"Enter the second number: \"))\n",
        "\n",
        "inp = input(\"Enter the operation you want to perform (+,-,*,/)\")\n",
        "\n",
        "if(inp == \"+\"):\n",
        "    print(f\"The result is {float(sum(a,b))}\")\n",
        "if(inp == \"-\"):\n",
        "    print(f\"The result is {float(sub(a,b))}\")\n",
        "if(inp == \"/\"):\n",
        "    print(f\"The result is {float(div(a,b))}\")\n",
        "if(inp == \"*\"):\n",
        "    print(f\"The result is {float(mul(a,b))}\")"
      ],
      "metadata": {
        "colab": {
          "base_uri": "https://localhost:8080/"
        },
        "id": "GDwTgFspwM8B",
        "outputId": "f308f4c2-3577-448c-feb9-adcca2dd0617"
      },
      "execution_count": null,
      "outputs": [
        {
          "output_type": "stream",
          "name": "stdout",
          "text": [
            "Enter the first number: 45\n",
            "Enter the second number: 15\n",
            "Enter the operation you want to perform (+,-,*,/)/\n",
            "The result is 3.0\n"
          ]
        }
      ]
    },
    {
      "cell_type": "code",
      "source": [
        "def largest(a, b, c):\n",
        "  if(a > b and a > c):\n",
        "    print(f\"The largest number is {a}\")\n",
        "  elif(b > a and b > c):\n",
        "    print(f\"The largest number is {b}\")\n",
        "  else:\n",
        "    print(f\"The largest number is {c}\")\n",
        "\n",
        "a = int(input(\"Enter the first number: \"))\n",
        "b = int(input(\"Enter the second number: \"))\n",
        "c = int(input(\"Enter the third number: \"))\n",
        "\n",
        "largest(a,b,c)"
      ],
      "metadata": {
        "colab": {
          "base_uri": "https://localhost:8080/"
        },
        "id": "ivgAa-iD9DQ6",
        "outputId": "fb309829-358d-4942-c73f-1e42718552eb"
      },
      "execution_count": null,
      "outputs": [
        {
          "output_type": "stream",
          "name": "stdout",
          "text": [
            "Enter the first number: 4\n",
            "Enter the second number: 5\n",
            "Enter the third number: 1\n",
            "The largest number is 5\n"
          ]
        }
      ]
    },
    {
      "cell_type": "code",
      "source": [
        "def rev(str):\n",
        "  return str[::-1]\n",
        "\n",
        "st = input(\"Enter a string: \")\n",
        "print(f\"The reversed string is: {rev(st)}\")"
      ],
      "metadata": {
        "id": "W5VmtpthA4AQ",
        "colab": {
          "base_uri": "https://localhost:8080/"
        },
        "outputId": "846351d1-b63b-4001-e84e-ef4883d65afa"
      },
      "execution_count": null,
      "outputs": [
        {
          "output_type": "stream",
          "name": "stdout",
          "text": [
            "Enter a string: hello\n",
            "The reversed string is: olleh\n"
          ]
        }
      ]
    },
    {
      "cell_type": "code",
      "source": [
        "vowels = 'aeiou'\n",
        "vowels.lower()\n",
        "v_list = []\n",
        "count = 0\n",
        "\n",
        "st = input(\"Enter a string: \")\n",
        "\n",
        "for i in st:\n",
        "  if(i.lower() in vowels):\n",
        "    v_list.append(i)\n",
        "    count+1\n",
        "\n",
        "print(f\"There are {count} vowels in the string: {v_list}\")"
      ],
      "metadata": {
        "colab": {
          "base_uri": "https://localhost:8080/"
        },
        "collapsed": true,
        "id": "gkBchOPfXtjA",
        "outputId": "de3c4163-42a5-4c46-c86a-b56ec63a20fc"
      },
      "execution_count": null,
      "outputs": [
        {
          "output_type": "stream",
          "name": "stdout",
          "text": [
            "Enter a string: Nimra Waqar\n",
            "There are 0 vowels in the string: ['i', 'a', 'a', 'a']\n"
          ]
        }
      ]
    },
    {
      "cell_type": "code",
      "source": [
        "first = 0\n",
        "second = 1\n",
        "\n",
        "r = int(input(\"How many terms: \"))\n",
        "\n",
        "for i in range(r):\n",
        "  print(first)\n",
        "  temp = first\n",
        "  first = second\n",
        "  second = temp + second"
      ],
      "metadata": {
        "colab": {
          "base_uri": "https://localhost:8080/"
        },
        "id": "8CEMAw8ZZGyw",
        "outputId": "a03e37e5-fcb0-406c-82a8-e5923d6d9ff0"
      },
      "execution_count": null,
      "outputs": [
        {
          "output_type": "stream",
          "name": "stdout",
          "text": [
            "How many terms: 7\n",
            "0\n",
            "1\n",
            "1\n",
            "2\n",
            "3\n",
            "5\n",
            "8\n"
          ]
        }
      ]
    },
    {
      "cell_type": "code",
      "source": [
        "def pal(st):\n",
        "  return(st == st[::-1])\n",
        "\n",
        "s = input(\"Enter a string: \")\n",
        "if(pal(s)):\n",
        "  print(f\"The string {s} is Palindrome\")\n",
        "else:\n",
        "  print(f\"The string {s} is not Palindrome\")"
      ],
      "metadata": {
        "colab": {
          "base_uri": "https://localhost:8080/"
        },
        "id": "g7oksQgCart4",
        "outputId": "d134665f-d078-452a-94e4-07d838dcd300"
      },
      "execution_count": null,
      "outputs": [
        {
          "output_type": "stream",
          "name": "stdout",
          "text": [
            "Enter a string: level\n",
            "The string level is Palindrome\n"
          ]
        }
      ]
    }
  ]
}